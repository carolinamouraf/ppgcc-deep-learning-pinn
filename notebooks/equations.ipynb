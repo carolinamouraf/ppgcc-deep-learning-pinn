{
 "cells": [
  {
   "cell_type": "markdown",
   "id": "fda21a1e",
   "metadata": {},
   "source": [
    "# tl;dr\n",
    "\n",
    "in this notebook we store the latex equations used in slideshow to simplify occassional changes."
   ]
  },
  {
   "cell_type": "markdown",
   "id": "443a136f",
   "metadata": {},
   "source": [
    "\\begin{align*}\n",
    "\\text{ODE} &: \\frac{dT}{dt} = k (T-S) \\\\\n",
    "\\text{Solution} &: T=(T_0-S) e^{kt} + S\n",
    "\\end{align*}"
   ]
  },
  {
   "cell_type": "markdown",
   "id": "bd727f1b",
   "metadata": {},
   "source": [
    "."
   ]
  }
 ],
 "metadata": {
  "kernelspec": {
   "display_name": "Python 3 (ipykernel)",
   "language": "python",
   "name": "python3"
  },
  "language_info": {
   "codemirror_mode": {
    "name": "ipython",
    "version": 3
   },
   "file_extension": ".py",
   "mimetype": "text/x-python",
   "name": "python",
   "nbconvert_exporter": "python",
   "pygments_lexer": "ipython3",
   "version": "3.10.12"
  },
  "toc": {
   "base_numbering": 1,
   "nav_menu": {},
   "number_sections": true,
   "sideBar": true,
   "skip_h1_title": false,
   "title_cell": "contents",
   "title_sidebar": "Contents",
   "toc_cell": true,
   "toc_position": {},
   "toc_section_display": true,
   "toc_window_display": true
  },
  "varInspector": {
   "cols": {
    "lenName": 16,
    "lenType": 16,
    "lenVar": 40
   },
   "kernels_config": {
    "python": {
     "delete_cmd_postfix": "",
     "delete_cmd_prefix": "del ",
     "library": "var_list.py",
     "varRefreshCmd": "print(var_dic_list())"
    },
    "r": {
     "delete_cmd_postfix": ") ",
     "delete_cmd_prefix": "rm(",
     "library": "var_list.r",
     "varRefreshCmd": "cat(var_dic_list()) "
    }
   },
   "types_to_exclude": [
    "module",
    "function",
    "builtin_function_or_method",
    "instance",
    "_Feature"
   ],
   "window_display": false
  }
 },
 "nbformat": 4,
 "nbformat_minor": 5
}
